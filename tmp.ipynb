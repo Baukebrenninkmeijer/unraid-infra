{
 "cells": [
  {
   "cell_type": "code",
   "execution_count": 1,
   "metadata": {},
   "outputs": [],
   "source": [
    "%load_ext autoreload\n",
    "%autoreload 2"
   ]
  },
  {
   "cell_type": "code",
   "execution_count": 2,
   "metadata": {},
   "outputs": [],
   "source": [
    "import sys\n",
    "sys.path.append('dags')\n",
    "from sqlalchemy import create_engine\n",
    "import pandas as pd\n",
    "from sqlalchemy.engine import URL, Engine\n",
    "\n",
    "# Replace the placeholders with your PostgreSQL database credentials\n",
    "username = 'airflow-assessment-user'\n",
    "password = '6tDojhrdmJ'\n",
    "host = 'localhost'\n",
    "port = 5433\n",
    "database = 'airflow-assessment'\n"
   ]
  },
  {
   "cell_type": "code",
   "execution_count": 3,
   "metadata": {},
   "outputs": [
    {
     "data": {
      "text/plain": [
       "<sqlalchemy.engine.base.Connection at 0x13d3a900220>"
      ]
     },
     "execution_count": 3,
     "metadata": {},
     "output_type": "execute_result"
    }
   ],
   "source": [
    "\n",
    "\n",
    "# DATABASE_URL = f\"postgresql+psycopg2://{conn_details.user}:{conn_details.password}@{conn_details.host}:{conn_details.port}/{conn_details.schema}\"\n",
    "AIRFLOW_SCHEMA_NAME = \"airflow-assessment\"\n",
    "\n",
    "\n",
    "url =  URL.create(\n",
    "    drivername=\"postgresql+psycopg2\",\n",
    "    username=username,\n",
    "    password=password,\n",
    "    host=host,\n",
    "    port=port,\n",
    "    database=database,\n",
    ")\n",
    "\n",
    "engine = create_engine(url)\n",
    "engine.connect()"
   ]
  },
  {
   "cell_type": "code",
   "execution_count": 17,
   "metadata": {},
   "outputs": [
    {
     "data": {
      "text/html": [
       "<div>\n",
       "<style scoped>\n",
       "    .dataframe tbody tr th:only-of-type {\n",
       "        vertical-align: middle;\n",
       "    }\n",
       "\n",
       "    .dataframe tbody tr th {\n",
       "        vertical-align: top;\n",
       "    }\n",
       "\n",
       "    .dataframe thead th {\n",
       "        text-align: right;\n",
       "    }\n",
       "</style>\n",
       "<table border=\"1\" class=\"dataframe\">\n",
       "  <thead>\n",
       "    <tr style=\"text-align: right;\">\n",
       "      <th></th>\n",
       "      <th>id</th>\n",
       "      <th>ibans</th>\n",
       "      <th>name</th>\n",
       "      <th>address</th>\n",
       "    </tr>\n",
       "  </thead>\n",
       "  <tbody>\n",
       "    <tr>\n",
       "      <th>0</th>\n",
       "      <td>1</td>\n",
       "      <td>[NL58EQEN7258967872]</td>\n",
       "      <td>Royal Schagen</td>\n",
       "      <td>Sarina-Nette-Allee 2/8\\n08025 Hannoversch Münden</td>\n",
       "    </tr>\n",
       "    <tr>\n",
       "      <th>1</th>\n",
       "      <td>2</td>\n",
       "      <td>[NL72CVMA8072684711]</td>\n",
       "      <td>Harris Group</td>\n",
       "      <td>308 Aaron isle\\nStokesfurt\\nN99 4NR</td>\n",
       "    </tr>\n",
       "    <tr>\n",
       "      <th>2</th>\n",
       "      <td>3</td>\n",
       "      <td>[DE45306993503114243904]</td>\n",
       "      <td>Schönland</td>\n",
       "      <td>Julietteboulevard 915\\n1962GQ\\nUlft</td>\n",
       "    </tr>\n",
       "    <tr>\n",
       "      <th>3</th>\n",
       "      <td>4</td>\n",
       "      <td>[GB34HTSZ21460928267258]</td>\n",
       "      <td>Dupont</td>\n",
       "      <td>Steinbergstr. 44\\n27910 Parchim</td>\n",
       "    </tr>\n",
       "    <tr>\n",
       "      <th>4</th>\n",
       "      <td>5</td>\n",
       "      <td>[FR7209925764719308621072695]</td>\n",
       "      <td>Croon Elektrotechniek</td>\n",
       "      <td>Tlustekstraße 5\\n55633 Bremervörde</td>\n",
       "    </tr>\n",
       "    <tr>\n",
       "      <th>...</th>\n",
       "      <td>...</td>\n",
       "      <td>...</td>\n",
       "      <td>...</td>\n",
       "      <td>...</td>\n",
       "    </tr>\n",
       "    <tr>\n",
       "      <th>95</th>\n",
       "      <td>96</td>\n",
       "      <td>[NL73QLRU1042042324]</td>\n",
       "      <td>Oda &amp; Freshour</td>\n",
       "      <td>Taraboulevard 9\\n2226 XI\\nZweins</td>\n",
       "    </tr>\n",
       "    <tr>\n",
       "      <th>96</th>\n",
       "      <td>97</td>\n",
       "      <td>[GB56BYQM16792331709055]</td>\n",
       "      <td>Mitschke</td>\n",
       "      <td>Eckhart-Renner-Allee 757\\n17504 Kassel</td>\n",
       "    </tr>\n",
       "    <tr>\n",
       "      <th>97</th>\n",
       "      <td>98</td>\n",
       "      <td>[DE36681676155117771996]</td>\n",
       "      <td>Marchand S.A.S.</td>\n",
       "      <td>Annaring 464\\n1397 OE\\nErm</td>\n",
       "    </tr>\n",
       "    <tr>\n",
       "      <th>98</th>\n",
       "      <td>99</td>\n",
       "      <td>[GB51SJEV83747591864014]</td>\n",
       "      <td>Kostolzin AG</td>\n",
       "      <td>8, chemin de Delannoy\\n02547 Étienne</td>\n",
       "    </tr>\n",
       "    <tr>\n",
       "      <th>99</th>\n",
       "      <td>100</td>\n",
       "      <td>[NL86QGLJ2281132931]</td>\n",
       "      <td>Grein Groth</td>\n",
       "      <td>Studio 87\\nTerence harbor\\nNorth Teresa\\nB4K 2HS</td>\n",
       "    </tr>\n",
       "  </tbody>\n",
       "</table>\n",
       "<p>100 rows × 4 columns</p>\n",
       "</div>"
      ],
      "text/plain": [
       "     id                          ibans                   name  \\\n",
       "0     1           [NL58EQEN7258967872]          Royal Schagen   \n",
       "1     2           [NL72CVMA8072684711]           Harris Group   \n",
       "2     3       [DE45306993503114243904]              Schönland   \n",
       "3     4       [GB34HTSZ21460928267258]                 Dupont   \n",
       "4     5  [FR7209925764719308621072695]  Croon Elektrotechniek   \n",
       "..  ...                            ...                    ...   \n",
       "95   96           [NL73QLRU1042042324]         Oda & Freshour   \n",
       "96   97       [GB56BYQM16792331709055]               Mitschke   \n",
       "97   98       [DE36681676155117771996]        Marchand S.A.S.   \n",
       "98   99       [GB51SJEV83747591864014]           Kostolzin AG   \n",
       "99  100           [NL86QGLJ2281132931]            Grein Groth   \n",
       "\n",
       "                                             address  \n",
       "0   Sarina-Nette-Allee 2/8\\n08025 Hannoversch Münden  \n",
       "1                308 Aaron isle\\nStokesfurt\\nN99 4NR  \n",
       "2                Julietteboulevard 915\\n1962GQ\\nUlft  \n",
       "3                    Steinbergstr. 44\\n27910 Parchim  \n",
       "4                 Tlustekstraße 5\\n55633 Bremervörde  \n",
       "..                                               ...  \n",
       "95                  Taraboulevard 9\\n2226 XI\\nZweins  \n",
       "96            Eckhart-Renner-Allee 757\\n17504 Kassel  \n",
       "97                        Annaring 464\\n1397 OE\\nErm  \n",
       "98              8, chemin de Delannoy\\n02547 Étienne  \n",
       "99  Studio 87\\nTerence harbor\\nNorth Teresa\\nB4K 2HS  \n",
       "\n",
       "[100 rows x 4 columns]"
      ]
     },
     "execution_count": 17,
     "metadata": {},
     "output_type": "execute_result"
    }
   ],
   "source": [
    "df = pd.read_json('http://127.0.0.1/cdm-api/companies')\n",
    "df.ibans = df.ibans.apply(pd.eval)\n",
    "df"
   ]
  },
  {
   "cell_type": "code",
   "execution_count": 18,
   "metadata": {},
   "outputs": [
    {
     "data": {
      "text/html": [
       "<div>\n",
       "<style scoped>\n",
       "    .dataframe tbody tr th:only-of-type {\n",
       "        vertical-align: middle;\n",
       "    }\n",
       "\n",
       "    .dataframe tbody tr th {\n",
       "        vertical-align: top;\n",
       "    }\n",
       "\n",
       "    .dataframe thead th {\n",
       "        text-align: right;\n",
       "    }\n",
       "</style>\n",
       "<table border=\"1\" class=\"dataframe\">\n",
       "  <thead>\n",
       "    <tr style=\"text-align: right;\">\n",
       "      <th></th>\n",
       "      <th>id</th>\n",
       "      <th>ibans</th>\n",
       "      <th>name</th>\n",
       "      <th>address</th>\n",
       "    </tr>\n",
       "  </thead>\n",
       "  <tbody>\n",
       "    <tr>\n",
       "      <th>0</th>\n",
       "      <td>1</td>\n",
       "      <td>NL58EQEN7258967872</td>\n",
       "      <td>Royal Schagen</td>\n",
       "      <td>Sarina-Nette-Allee 2/8\\n08025 Hannoversch Münden</td>\n",
       "    </tr>\n",
       "    <tr>\n",
       "      <th>1</th>\n",
       "      <td>2</td>\n",
       "      <td>NL72CVMA8072684711</td>\n",
       "      <td>Harris Group</td>\n",
       "      <td>308 Aaron isle\\nStokesfurt\\nN99 4NR</td>\n",
       "    </tr>\n",
       "    <tr>\n",
       "      <th>2</th>\n",
       "      <td>3</td>\n",
       "      <td>DE45306993503114243904</td>\n",
       "      <td>Schönland</td>\n",
       "      <td>Julietteboulevard 915\\n1962GQ\\nUlft</td>\n",
       "    </tr>\n",
       "    <tr>\n",
       "      <th>3</th>\n",
       "      <td>4</td>\n",
       "      <td>GB34HTSZ21460928267258</td>\n",
       "      <td>Dupont</td>\n",
       "      <td>Steinbergstr. 44\\n27910 Parchim</td>\n",
       "    </tr>\n",
       "    <tr>\n",
       "      <th>4</th>\n",
       "      <td>5</td>\n",
       "      <td>FR7209925764719308621072695</td>\n",
       "      <td>Croon Elektrotechniek</td>\n",
       "      <td>Tlustekstraße 5\\n55633 Bremervörde</td>\n",
       "    </tr>\n",
       "    <tr>\n",
       "      <th>...</th>\n",
       "      <td>...</td>\n",
       "      <td>...</td>\n",
       "      <td>...</td>\n",
       "      <td>...</td>\n",
       "    </tr>\n",
       "    <tr>\n",
       "      <th>95</th>\n",
       "      <td>96</td>\n",
       "      <td>NL73QLRU1042042324</td>\n",
       "      <td>Oda &amp; Freshour</td>\n",
       "      <td>Taraboulevard 9\\n2226 XI\\nZweins</td>\n",
       "    </tr>\n",
       "    <tr>\n",
       "      <th>96</th>\n",
       "      <td>97</td>\n",
       "      <td>GB56BYQM16792331709055</td>\n",
       "      <td>Mitschke</td>\n",
       "      <td>Eckhart-Renner-Allee 757\\n17504 Kassel</td>\n",
       "    </tr>\n",
       "    <tr>\n",
       "      <th>97</th>\n",
       "      <td>98</td>\n",
       "      <td>DE36681676155117771996</td>\n",
       "      <td>Marchand S.A.S.</td>\n",
       "      <td>Annaring 464\\n1397 OE\\nErm</td>\n",
       "    </tr>\n",
       "    <tr>\n",
       "      <th>98</th>\n",
       "      <td>99</td>\n",
       "      <td>GB51SJEV83747591864014</td>\n",
       "      <td>Kostolzin AG</td>\n",
       "      <td>8, chemin de Delannoy\\n02547 Étienne</td>\n",
       "    </tr>\n",
       "    <tr>\n",
       "      <th>99</th>\n",
       "      <td>100</td>\n",
       "      <td>NL86QGLJ2281132931</td>\n",
       "      <td>Grein Groth</td>\n",
       "      <td>Studio 87\\nTerence harbor\\nNorth Teresa\\nB4K 2HS</td>\n",
       "    </tr>\n",
       "  </tbody>\n",
       "</table>\n",
       "<p>100 rows × 4 columns</p>\n",
       "</div>"
      ],
      "text/plain": [
       "     id                        ibans                   name  \\\n",
       "0     1           NL58EQEN7258967872          Royal Schagen   \n",
       "1     2           NL72CVMA8072684711           Harris Group   \n",
       "2     3       DE45306993503114243904              Schönland   \n",
       "3     4       GB34HTSZ21460928267258                 Dupont   \n",
       "4     5  FR7209925764719308621072695  Croon Elektrotechniek   \n",
       "..  ...                          ...                    ...   \n",
       "95   96           NL73QLRU1042042324         Oda & Freshour   \n",
       "96   97       GB56BYQM16792331709055               Mitschke   \n",
       "97   98       DE36681676155117771996        Marchand S.A.S.   \n",
       "98   99       GB51SJEV83747591864014           Kostolzin AG   \n",
       "99  100           NL86QGLJ2281132931            Grein Groth   \n",
       "\n",
       "                                             address  \n",
       "0   Sarina-Nette-Allee 2/8\\n08025 Hannoversch Münden  \n",
       "1                308 Aaron isle\\nStokesfurt\\nN99 4NR  \n",
       "2                Julietteboulevard 915\\n1962GQ\\nUlft  \n",
       "3                    Steinbergstr. 44\\n27910 Parchim  \n",
       "4                 Tlustekstraße 5\\n55633 Bremervörde  \n",
       "..                                               ...  \n",
       "95                  Taraboulevard 9\\n2226 XI\\nZweins  \n",
       "96            Eckhart-Renner-Allee 757\\n17504 Kassel  \n",
       "97                        Annaring 464\\n1397 OE\\nErm  \n",
       "98              8, chemin de Delannoy\\n02547 Étienne  \n",
       "99  Studio 87\\nTerence harbor\\nNorth Teresa\\nB4K 2HS  \n",
       "\n",
       "[100 rows x 4 columns]"
      ]
     },
     "execution_count": 18,
     "metadata": {},
     "output_type": "execute_result"
    }
   ],
   "source": [
    "\n",
    "df = df.explode('ibans')\n",
    "df\n"
   ]
  },
  {
   "cell_type": "code",
   "execution_count": 20,
   "metadata": {},
   "outputs": [
    {
     "data": {
      "text/plain": [
       "0     NL\n",
       "1     NL\n",
       "2     DE\n",
       "3     GB\n",
       "4     FR\n",
       "      ..\n",
       "95    NL\n",
       "96    GB\n",
       "97    DE\n",
       "98    GB\n",
       "99    NL\n",
       "Name: ibans, Length: 100, dtype: object"
      ]
     },
     "execution_count": 20,
     "metadata": {},
     "output_type": "execute_result"
    }
   ],
   "source": [
    "df.ibans.str.slice(0, 2)"
   ]
  },
  {
   "cell_type": "code",
   "execution_count": 4,
   "metadata": {},
   "outputs": [
    {
     "data": {
      "text/plain": [
       "True"
      ]
     },
     "execution_count": 4,
     "metadata": {},
     "output_type": "execute_result"
    }
   ],
   "source": [
    "import os\n",
    "os.environ['_AIRFLOW__AS_LIBRARY'] = '1'\n",
    "x = os.environ['_AIRFLOW__AS_LIBRARY']\n",
    "bool(x)"
   ]
  },
  {
   "cell_type": "code",
   "execution_count": 6,
   "metadata": {},
   "outputs": [],
   "source": [
    "from airflow_assessment.database import create_schema_if_not_exists_with_engine, create_table_if_not_exists\n",
    "create_schema_if_not_exists_with_engine(engine, AIRFLOW_SCHEMA_NAME)"
   ]
  },
  {
   "cell_type": "code",
   "execution_count": null,
   "metadata": {},
   "outputs": [],
   "source": [
    "from airflow_assessment.database import create_tables\n",
    "create_tables(engine)"
   ]
  },
  {
   "cell_type": "code",
   "execution_count": 12,
   "metadata": {},
   "outputs": [
    {
     "data": {
      "text/plain": [
       "'airflow-assessment'"
      ]
     },
     "execution_count": 12,
     "metadata": {},
     "output_type": "execute_result"
    }
   ],
   "source": [
    "from airflow_assessment.models.alchemy import CompanyModel\n",
    "\n",
    "\n",
    "CompanyModel.__table_args__['schema']"
   ]
  },
  {
   "cell_type": "code",
   "execution_count": 13,
   "metadata": {},
   "outputs": [],
   "source": [
    "from airflow_assessment.models.alchemy import CompanyModel\n",
    "\n",
    "\n",
    "create_table_if_not_exists(engine, model=CompanyModel)"
   ]
  },
  {
   "cell_type": "code",
   "execution_count": 15,
   "metadata": {},
   "outputs": [],
   "source": [
    "import logging\n",
    "\n",
    "logging.basicConfig(level=logging.DEBUG)"
   ]
  },
  {
   "cell_type": "code",
   "execution_count": 27,
   "metadata": {},
   "outputs": [
    {
     "name": "stderr",
     "output_type": "stream",
     "text": [
      "INFO:airflow_assessment.ingest:Retrieving SEPA transactions from API for 2021-01-01 00:00:00\n"
     ]
    },
    {
     "ename": "ValueError",
     "evalue": "day is out of range for month",
     "output_type": "error",
     "traceback": [
      "\u001b[1;31m---------------------------------------------------------------------------\u001b[0m",
      "\u001b[1;31mValueError\u001b[0m                                Traceback (most recent call last)",
      "Cell \u001b[1;32mIn[27], line 5\u001b[0m\n\u001b[0;32m      1\u001b[0m \u001b[38;5;28;01mfrom\u001b[39;00m \u001b[38;5;21;01mdatetime\u001b[39;00m \u001b[38;5;28;01mimport\u001b[39;00m datetime\n\u001b[0;32m      2\u001b[0m \u001b[38;5;28;01mfrom\u001b[39;00m \u001b[38;5;21;01mairflow_assessment\u001b[39;00m\u001b[38;5;21;01m.\u001b[39;00m\u001b[38;5;21;01mingest\u001b[39;00m \u001b[38;5;28;01mimport\u001b[39;00m get_transactions_from_api_per_month\n\u001b[1;32m----> 5\u001b[0m \u001b[43mget_transactions_from_api_per_month\u001b[49m\u001b[43m(\u001b[49m\u001b[43mexecution_date\u001b[49m\u001b[38;5;241;43m=\u001b[39;49m\u001b[43mdatetime\u001b[49m\u001b[43m(\u001b[49m\u001b[38;5;241;43m2021\u001b[39;49m\u001b[43m,\u001b[49m\u001b[43m \u001b[49m\u001b[38;5;241;43m1\u001b[39;49m\u001b[43m,\u001b[49m\u001b[43m \u001b[49m\u001b[38;5;241;43m1\u001b[39;49m\u001b[43m)\u001b[49m\u001b[43m,\u001b[49m\u001b[43m \u001b[49m\u001b[43murl\u001b[49m\u001b[38;5;241;43m=\u001b[39;49m\u001b[38;5;124;43m'\u001b[39;49m\u001b[38;5;124;43mhttp://127.0.0.1/cdm-api/transactions/swift\u001b[39;49m\u001b[38;5;124;43m'\u001b[39;49m\u001b[43m)\u001b[49m\n",
      "File \u001b[1;32mc:\\Users\\BaukeBrenninkmeijer\\Projects\\ing-assessment\\dags\\airflow_assessment\\ingest.py:94\u001b[0m, in \u001b[0;36mget_transactions_from_api_per_month\u001b[1;34m(execution_date, url)\u001b[0m\n\u001b[0;32m     92\u001b[0m \u001b[38;5;28;01mdef\u001b[39;00m \u001b[38;5;21mget_transactions_from_api_per_month\u001b[39m(execution_date: datetime, url: \u001b[38;5;28mstr\u001b[39m) \u001b[38;5;241m-\u001b[39m\u001b[38;5;241m>\u001b[39m pd\u001b[38;5;241m.\u001b[39mDataFrame:\n\u001b[0;32m     93\u001b[0m     logger\u001b[38;5;241m.\u001b[39minfo(\u001b[38;5;124mf\u001b[39m\u001b[38;5;124m'\u001b[39m\u001b[38;5;124mRetrieving SEPA transactions from API for \u001b[39m\u001b[38;5;132;01m{\u001b[39;00mexecution_date\u001b[38;5;132;01m}\u001b[39;00m\u001b[38;5;124m'\u001b[39m)\n\u001b[1;32m---> 94\u001b[0m     end_ts \u001b[38;5;241m=\u001b[39m \u001b[43mexecution_date\u001b[49m\u001b[38;5;241;43m.\u001b[39;49m\u001b[43mreplace\u001b[49m\u001b[43m(\u001b[49m\u001b[43mmonth\u001b[49m\u001b[38;5;241;43m=\u001b[39;49m\u001b[43mexecution_date\u001b[49m\u001b[38;5;241;43m.\u001b[39;49m\u001b[43mmonth\u001b[49m\u001b[43m \u001b[49m\u001b[38;5;241;43m+\u001b[39;49m\u001b[43m \u001b[49m\u001b[38;5;241;43m1\u001b[39;49m\u001b[43m,\u001b[49m\u001b[43m \u001b[49m\u001b[43mday\u001b[49m\u001b[38;5;241;43m=\u001b[39;49m\u001b[38;5;241;43m0\u001b[39;49m\u001b[43m,\u001b[49m\u001b[43m \u001b[49m\u001b[43mhour\u001b[49m\u001b[38;5;241;43m=\u001b[39;49m\u001b[38;5;241;43m0\u001b[39;49m\u001b[43m,\u001b[49m\u001b[43m \u001b[49m\u001b[43mminute\u001b[49m\u001b[38;5;241;43m=\u001b[39;49m\u001b[38;5;241;43m0\u001b[39;49m\u001b[43m,\u001b[49m\u001b[43m \u001b[49m\u001b[43msecond\u001b[49m\u001b[38;5;241;43m=\u001b[39;49m\u001b[38;5;241;43m0\u001b[39;49m\u001b[43m,\u001b[49m\u001b[43m \u001b[49m\u001b[43mmicrosecond\u001b[49m\u001b[38;5;241;43m=\u001b[39;49m\u001b[38;5;241;43m0\u001b[39;49m\u001b[43m)\u001b[49m\n\u001b[0;32m     95\u001b[0m     data \u001b[38;5;241m=\u001b[39m []\n\u001b[0;32m     96\u001b[0m     cur_ts \u001b[38;5;241m=\u001b[39m execution_date\n",
      "\u001b[1;31mValueError\u001b[0m: day is out of range for month"
     ]
    }
   ],
   "source": [
    "from datetime import datetime\n",
    "from airflow_assessment.ingest import get_transactions_from_api_interval\n",
    "\n",
    "\n",
    "get_transactions_from_api_interval(start_date=datetime(2021, 1, 1), url='http://127.0.0.1/cdm-api/transactions/swift')"
   ]
  },
  {
   "cell_type": "code",
   "execution_count": 29,
   "metadata": {},
   "outputs": [
    {
     "data": {
      "text/plain": [
       "datetime.datetime(2023, 1, 31, 4, 5)"
      ]
     },
     "execution_count": 29,
     "metadata": {},
     "output_type": "execute_result"
    }
   ],
   "source": [
    "from airflow_assessment.utils import last_day_of_month\n",
    "\n",
    "\n",
    "last_day_of_month(datetime(2023, 1, 1, 4, 5))"
   ]
  }
 ],
 "metadata": {
  "kernelspec": {
   "display_name": "ing",
   "language": "python",
   "name": "python3"
  },
  "language_info": {
   "codemirror_mode": {
    "name": "ipython",
    "version": 3
   },
   "file_extension": ".py",
   "mimetype": "text/x-python",
   "name": "python",
   "nbconvert_exporter": "python",
   "pygments_lexer": "ipython3",
   "version": "3.10.13"
  }
 },
 "nbformat": 4,
 "nbformat_minor": 2
}
